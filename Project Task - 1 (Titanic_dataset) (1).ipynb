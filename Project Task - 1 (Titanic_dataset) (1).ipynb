{
 "cells": [
  {
   "cell_type": "markdown",
   "id": "eaa80c06",
   "metadata": {},
   "source": [
    "# Business Problem"
   ]
  },
  {
   "cell_type": "markdown",
   "id": "2a1e53f5",
   "metadata": {},
   "source": [
    "- Use the Titanic dataset to build a model that predicts whether a\n",
    "passenger on the Titanic survived or not. This is a classic beginner\n",
    "project with readily available data.\n",
    "- The dataset typically used for this project contains information\n",
    "about individual passengers, such as their age, gender, ticket\n",
    "class, fare, cabin, and whether or not they survived."
   ]
  },
  {
   "cell_type": "markdown",
   "id": "d74ddb7a",
   "metadata": {},
   "source": [
    "## Solution :-"
   ]
  },
  {
   "cell_type": "code",
   "execution_count": 165,
   "id": "9636e861",
   "metadata": {},
   "outputs": [],
   "source": [
    "import pandas as pd\n",
    "import seaborn as sns \n",
    "import matplotlib.pyplot as plt"
   ]
  },
  {
   "cell_type": "code",
   "execution_count": 166,
   "id": "39139689",
   "metadata": {},
   "outputs": [],
   "source": [
    "# Reading a file\n",
    "\n",
    "df = pd.read_csv(r'C:\\Users\\hp\\Downloads\\archive (53)\\Titanic-Dataset.csv')"
   ]
  },
  {
   "cell_type": "markdown",
   "id": "5e042d6b",
   "metadata": {},
   "source": [
    "Problem Statement:                      \n",
    "Objective: Build a machine learning model to predict whether a passenger survived or not.\n",
    "\n",
    "Target Variable(survived):                                                \n",
    "\n",
    "0: Not survived,\n",
    "1: Survived.\n",
    "\n",
    "Dataset:\n",
    "\n",
    "A dataset containing various features related to passengers (e.g., age, gender, pclass,Sex,Fare,Embarked,etc..)."
   ]
  },
  {
   "cell_type": "code",
   "execution_count": 167,
   "id": "0d95e966",
   "metadata": {},
   "outputs": [
    {
     "data": {
      "text/html": [
       "<div>\n",
       "<style scoped>\n",
       "    .dataframe tbody tr th:only-of-type {\n",
       "        vertical-align: middle;\n",
       "    }\n",
       "\n",
       "    .dataframe tbody tr th {\n",
       "        vertical-align: top;\n",
       "    }\n",
       "\n",
       "    .dataframe thead th {\n",
       "        text-align: right;\n",
       "    }\n",
       "</style>\n",
       "<table border=\"1\" class=\"dataframe\">\n",
       "  <thead>\n",
       "    <tr style=\"text-align: right;\">\n",
       "      <th></th>\n",
       "      <th>PassengerId</th>\n",
       "      <th>Survived</th>\n",
       "      <th>Pclass</th>\n",
       "      <th>Name</th>\n",
       "      <th>Sex</th>\n",
       "      <th>Age</th>\n",
       "      <th>SibSp</th>\n",
       "      <th>Parch</th>\n",
       "      <th>Ticket</th>\n",
       "      <th>Fare</th>\n",
       "      <th>Cabin</th>\n",
       "      <th>Embarked</th>\n",
       "    </tr>\n",
       "  </thead>\n",
       "  <tbody>\n",
       "    <tr>\n",
       "      <th>0</th>\n",
       "      <td>1</td>\n",
       "      <td>0</td>\n",
       "      <td>3</td>\n",
       "      <td>Braund, Mr. Owen Harris</td>\n",
       "      <td>male</td>\n",
       "      <td>22.0</td>\n",
       "      <td>1</td>\n",
       "      <td>0</td>\n",
       "      <td>A/5 21171</td>\n",
       "      <td>7.2500</td>\n",
       "      <td>NaN</td>\n",
       "      <td>S</td>\n",
       "    </tr>\n",
       "    <tr>\n",
       "      <th>1</th>\n",
       "      <td>2</td>\n",
       "      <td>1</td>\n",
       "      <td>1</td>\n",
       "      <td>Cumings, Mrs. John Bradley (Florence Briggs Th...</td>\n",
       "      <td>female</td>\n",
       "      <td>38.0</td>\n",
       "      <td>1</td>\n",
       "      <td>0</td>\n",
       "      <td>PC 17599</td>\n",
       "      <td>71.2833</td>\n",
       "      <td>C85</td>\n",
       "      <td>C</td>\n",
       "    </tr>\n",
       "    <tr>\n",
       "      <th>2</th>\n",
       "      <td>3</td>\n",
       "      <td>1</td>\n",
       "      <td>3</td>\n",
       "      <td>Heikkinen, Miss. Laina</td>\n",
       "      <td>female</td>\n",
       "      <td>26.0</td>\n",
       "      <td>0</td>\n",
       "      <td>0</td>\n",
       "      <td>STON/O2. 3101282</td>\n",
       "      <td>7.9250</td>\n",
       "      <td>NaN</td>\n",
       "      <td>S</td>\n",
       "    </tr>\n",
       "    <tr>\n",
       "      <th>3</th>\n",
       "      <td>4</td>\n",
       "      <td>1</td>\n",
       "      <td>1</td>\n",
       "      <td>Futrelle, Mrs. Jacques Heath (Lily May Peel)</td>\n",
       "      <td>female</td>\n",
       "      <td>35.0</td>\n",
       "      <td>1</td>\n",
       "      <td>0</td>\n",
       "      <td>113803</td>\n",
       "      <td>53.1000</td>\n",
       "      <td>C123</td>\n",
       "      <td>S</td>\n",
       "    </tr>\n",
       "    <tr>\n",
       "      <th>4</th>\n",
       "      <td>5</td>\n",
       "      <td>0</td>\n",
       "      <td>3</td>\n",
       "      <td>Allen, Mr. William Henry</td>\n",
       "      <td>male</td>\n",
       "      <td>35.0</td>\n",
       "      <td>0</td>\n",
       "      <td>0</td>\n",
       "      <td>373450</td>\n",
       "      <td>8.0500</td>\n",
       "      <td>NaN</td>\n",
       "      <td>S</td>\n",
       "    </tr>\n",
       "  </tbody>\n",
       "</table>\n",
       "</div>"
      ],
      "text/plain": [
       "   PassengerId  Survived  Pclass  \\\n",
       "0            1         0       3   \n",
       "1            2         1       1   \n",
       "2            3         1       3   \n",
       "3            4         1       1   \n",
       "4            5         0       3   \n",
       "\n",
       "                                                Name     Sex   Age  SibSp  \\\n",
       "0                            Braund, Mr. Owen Harris    male  22.0      1   \n",
       "1  Cumings, Mrs. John Bradley (Florence Briggs Th...  female  38.0      1   \n",
       "2                             Heikkinen, Miss. Laina  female  26.0      0   \n",
       "3       Futrelle, Mrs. Jacques Heath (Lily May Peel)  female  35.0      1   \n",
       "4                           Allen, Mr. William Henry    male  35.0      0   \n",
       "\n",
       "   Parch            Ticket     Fare Cabin Embarked  \n",
       "0      0         A/5 21171   7.2500   NaN        S  \n",
       "1      0          PC 17599  71.2833   C85        C  \n",
       "2      0  STON/O2. 3101282   7.9250   NaN        S  \n",
       "3      0            113803  53.1000  C123        S  \n",
       "4      0            373450   8.0500   NaN        S  "
      ]
     },
     "execution_count": 167,
     "metadata": {},
     "output_type": "execute_result"
    }
   ],
   "source": [
    "df.head()"
   ]
  },
  {
   "cell_type": "code",
   "execution_count": 168,
   "id": "7c14034a",
   "metadata": {},
   "outputs": [
    {
     "data": {
      "text/plain": [
       "(891, 12)"
      ]
     },
     "execution_count": 168,
     "metadata": {},
     "output_type": "execute_result"
    }
   ],
   "source": [
    "# dimensions of dataset           \n",
    "\n",
    "df.shape\n",
    "\n",
    "# this dataset contains 891 rows and 12 columns"
   ]
  },
  {
   "cell_type": "code",
   "execution_count": 169,
   "id": "880e6f5c",
   "metadata": {},
   "outputs": [
    {
     "data": {
      "text/plain": [
       "PassengerId      int64\n",
       "Survived         int64\n",
       "Pclass           int64\n",
       "Name            object\n",
       "Sex             object\n",
       "Age            float64\n",
       "SibSp            int64\n",
       "Parch            int64\n",
       "Ticket          object\n",
       "Fare           float64\n",
       "Cabin           object\n",
       "Embarked        object\n",
       "dtype: object"
      ]
     },
     "execution_count": 169,
     "metadata": {},
     "output_type": "execute_result"
    }
   ],
   "source": [
    "# datatypes of columns\n",
    "\n",
    "df.dtypes"
   ]
  },
  {
   "cell_type": "code",
   "execution_count": 170,
   "id": "eab2d790",
   "metadata": {},
   "outputs": [],
   "source": [
    "df_cat = df.select_dtypes(include='object')\n",
    "df_num = df.select_dtypes(exclude='object')"
   ]
  },
  {
   "cell_type": "code",
   "execution_count": 171,
   "id": "55ddf3ef",
   "metadata": {},
   "outputs": [
    {
     "data": {
      "text/html": [
       "<div>\n",
       "<style scoped>\n",
       "    .dataframe tbody tr th:only-of-type {\n",
       "        vertical-align: middle;\n",
       "    }\n",
       "\n",
       "    .dataframe tbody tr th {\n",
       "        vertical-align: top;\n",
       "    }\n",
       "\n",
       "    .dataframe thead th {\n",
       "        text-align: right;\n",
       "    }\n",
       "</style>\n",
       "<table border=\"1\" class=\"dataframe\">\n",
       "  <thead>\n",
       "    <tr style=\"text-align: right;\">\n",
       "      <th></th>\n",
       "      <th>PassengerId</th>\n",
       "      <th>Survived</th>\n",
       "      <th>Pclass</th>\n",
       "      <th>Age</th>\n",
       "      <th>SibSp</th>\n",
       "      <th>Parch</th>\n",
       "      <th>Fare</th>\n",
       "    </tr>\n",
       "  </thead>\n",
       "  <tbody>\n",
       "    <tr>\n",
       "      <th>count</th>\n",
       "      <td>891.000000</td>\n",
       "      <td>891.000000</td>\n",
       "      <td>891.000000</td>\n",
       "      <td>714.000000</td>\n",
       "      <td>891.000000</td>\n",
       "      <td>891.000000</td>\n",
       "      <td>891.000000</td>\n",
       "    </tr>\n",
       "    <tr>\n",
       "      <th>mean</th>\n",
       "      <td>446.000000</td>\n",
       "      <td>0.383838</td>\n",
       "      <td>2.308642</td>\n",
       "      <td>29.699118</td>\n",
       "      <td>0.523008</td>\n",
       "      <td>0.381594</td>\n",
       "      <td>32.204208</td>\n",
       "    </tr>\n",
       "    <tr>\n",
       "      <th>std</th>\n",
       "      <td>257.353842</td>\n",
       "      <td>0.486592</td>\n",
       "      <td>0.836071</td>\n",
       "      <td>14.526497</td>\n",
       "      <td>1.102743</td>\n",
       "      <td>0.806057</td>\n",
       "      <td>49.693429</td>\n",
       "    </tr>\n",
       "    <tr>\n",
       "      <th>min</th>\n",
       "      <td>1.000000</td>\n",
       "      <td>0.000000</td>\n",
       "      <td>1.000000</td>\n",
       "      <td>0.420000</td>\n",
       "      <td>0.000000</td>\n",
       "      <td>0.000000</td>\n",
       "      <td>0.000000</td>\n",
       "    </tr>\n",
       "    <tr>\n",
       "      <th>25%</th>\n",
       "      <td>223.500000</td>\n",
       "      <td>0.000000</td>\n",
       "      <td>2.000000</td>\n",
       "      <td>20.125000</td>\n",
       "      <td>0.000000</td>\n",
       "      <td>0.000000</td>\n",
       "      <td>7.910400</td>\n",
       "    </tr>\n",
       "    <tr>\n",
       "      <th>50%</th>\n",
       "      <td>446.000000</td>\n",
       "      <td>0.000000</td>\n",
       "      <td>3.000000</td>\n",
       "      <td>28.000000</td>\n",
       "      <td>0.000000</td>\n",
       "      <td>0.000000</td>\n",
       "      <td>14.454200</td>\n",
       "    </tr>\n",
       "    <tr>\n",
       "      <th>75%</th>\n",
       "      <td>668.500000</td>\n",
       "      <td>1.000000</td>\n",
       "      <td>3.000000</td>\n",
       "      <td>38.000000</td>\n",
       "      <td>1.000000</td>\n",
       "      <td>0.000000</td>\n",
       "      <td>31.000000</td>\n",
       "    </tr>\n",
       "    <tr>\n",
       "      <th>max</th>\n",
       "      <td>891.000000</td>\n",
       "      <td>1.000000</td>\n",
       "      <td>3.000000</td>\n",
       "      <td>80.000000</td>\n",
       "      <td>8.000000</td>\n",
       "      <td>6.000000</td>\n",
       "      <td>512.329200</td>\n",
       "    </tr>\n",
       "  </tbody>\n",
       "</table>\n",
       "</div>"
      ],
      "text/plain": [
       "       PassengerId    Survived      Pclass         Age       SibSp  \\\n",
       "count   891.000000  891.000000  891.000000  714.000000  891.000000   \n",
       "mean    446.000000    0.383838    2.308642   29.699118    0.523008   \n",
       "std     257.353842    0.486592    0.836071   14.526497    1.102743   \n",
       "min       1.000000    0.000000    1.000000    0.420000    0.000000   \n",
       "25%     223.500000    0.000000    2.000000   20.125000    0.000000   \n",
       "50%     446.000000    0.000000    3.000000   28.000000    0.000000   \n",
       "75%     668.500000    1.000000    3.000000   38.000000    1.000000   \n",
       "max     891.000000    1.000000    3.000000   80.000000    8.000000   \n",
       "\n",
       "            Parch        Fare  \n",
       "count  891.000000  891.000000  \n",
       "mean     0.381594   32.204208  \n",
       "std      0.806057   49.693429  \n",
       "min      0.000000    0.000000  \n",
       "25%      0.000000    7.910400  \n",
       "50%      0.000000   14.454200  \n",
       "75%      0.000000   31.000000  \n",
       "max      6.000000  512.329200  "
      ]
     },
     "execution_count": 171,
     "metadata": {},
     "output_type": "execute_result"
    }
   ],
   "source": [
    "# 5 point summary for numerical columns\n",
    "\n",
    "df.describe()"
   ]
  },
  {
   "cell_type": "code",
   "execution_count": 172,
   "id": "9f05b4af",
   "metadata": {},
   "outputs": [
    {
     "data": {
      "text/html": [
       "<div>\n",
       "<style scoped>\n",
       "    .dataframe tbody tr th:only-of-type {\n",
       "        vertical-align: middle;\n",
       "    }\n",
       "\n",
       "    .dataframe tbody tr th {\n",
       "        vertical-align: top;\n",
       "    }\n",
       "\n",
       "    .dataframe thead th {\n",
       "        text-align: right;\n",
       "    }\n",
       "</style>\n",
       "<table border=\"1\" class=\"dataframe\">\n",
       "  <thead>\n",
       "    <tr style=\"text-align: right;\">\n",
       "      <th></th>\n",
       "      <th>Name</th>\n",
       "      <th>Sex</th>\n",
       "      <th>Ticket</th>\n",
       "      <th>Cabin</th>\n",
       "      <th>Embarked</th>\n",
       "    </tr>\n",
       "  </thead>\n",
       "  <tbody>\n",
       "    <tr>\n",
       "      <th>count</th>\n",
       "      <td>891</td>\n",
       "      <td>891</td>\n",
       "      <td>891</td>\n",
       "      <td>204</td>\n",
       "      <td>889</td>\n",
       "    </tr>\n",
       "    <tr>\n",
       "      <th>unique</th>\n",
       "      <td>891</td>\n",
       "      <td>2</td>\n",
       "      <td>681</td>\n",
       "      <td>147</td>\n",
       "      <td>3</td>\n",
       "    </tr>\n",
       "    <tr>\n",
       "      <th>top</th>\n",
       "      <td>Braund, Mr. Owen Harris</td>\n",
       "      <td>male</td>\n",
       "      <td>347082</td>\n",
       "      <td>B96 B98</td>\n",
       "      <td>S</td>\n",
       "    </tr>\n",
       "    <tr>\n",
       "      <th>freq</th>\n",
       "      <td>1</td>\n",
       "      <td>577</td>\n",
       "      <td>7</td>\n",
       "      <td>4</td>\n",
       "      <td>644</td>\n",
       "    </tr>\n",
       "  </tbody>\n",
       "</table>\n",
       "</div>"
      ],
      "text/plain": [
       "                           Name   Sex  Ticket    Cabin Embarked\n",
       "count                       891   891     891      204      889\n",
       "unique                      891     2     681      147        3\n",
       "top     Braund, Mr. Owen Harris  male  347082  B96 B98        S\n",
       "freq                          1   577       7        4      644"
      ]
     },
     "execution_count": 172,
     "metadata": {},
     "output_type": "execute_result"
    }
   ],
   "source": [
    "# summary count for categorical columns\n",
    "\n",
    "df_cat.describe()"
   ]
  },
  {
   "cell_type": "code",
   "execution_count": 173,
   "id": "b009caf0",
   "metadata": {},
   "outputs": [],
   "source": [
    "# there is need to drop categorical column name like ['Name','Ticket','Cabin']\n",
    "\n",
    "# Reason :- these 3 columns contains more than 70% values are unique so these type of columns \n",
    "#           generate a problems to build a machine learning model, ML model is unable to \n",
    "#           create a patterns because it contains so much unique values in the data..."
   ]
  },
  {
   "cell_type": "code",
   "execution_count": 174,
   "id": "0d2e6947",
   "metadata": {},
   "outputs": [],
   "source": [
    "# drop that 3 unnecessary column\n",
    "\n",
    "df.drop(['Name','Ticket','Cabin'],axis=1,inplace=True)"
   ]
  },
  {
   "cell_type": "code",
   "execution_count": 175,
   "id": "0b3d363c",
   "metadata": {},
   "outputs": [
    {
     "name": "stdout",
     "output_type": "stream",
     "text": [
      "Sex\n",
      "male      577\n",
      "female    314\n",
      "Name: count, dtype: int64\n",
      "------------------------\n",
      "Embarked\n",
      "S    644\n",
      "C    168\n",
      "Q     77\n",
      "Name: count, dtype: int64\n",
      "------------------------\n"
     ]
    }
   ],
   "source": [
    "for i in df.columns:\n",
    "    if df[i].dtype=='object':\n",
    "        print(df_cat[i].value_counts())\n",
    "        print('------------------------')"
   ]
  },
  {
   "cell_type": "code",
   "execution_count": 176,
   "id": "17e18392",
   "metadata": {},
   "outputs": [
    {
     "data": {
      "text/plain": [
       "PassengerId\n",
       "1      1\n",
       "599    1\n",
       "588    1\n",
       "589    1\n",
       "590    1\n",
       "      ..\n",
       "301    1\n",
       "302    1\n",
       "303    1\n",
       "304    1\n",
       "891    1\n",
       "Name: count, Length: 891, dtype: int64"
      ]
     },
     "execution_count": 176,
     "metadata": {},
     "output_type": "execute_result"
    }
   ],
   "source": [
    "df['PassengerId'].value_counts()  # it contains all unique values we have to drop this column also"
   ]
  },
  {
   "cell_type": "code",
   "execution_count": 177,
   "id": "ed7456ad",
   "metadata": {},
   "outputs": [],
   "source": [
    "# drop passengerid column\n",
    "\n",
    "df.drop('PassengerId',axis=1,inplace=True)"
   ]
  },
  {
   "cell_type": "code",
   "execution_count": 178,
   "id": "4e389bf9",
   "metadata": {},
   "outputs": [
    {
     "data": {
      "text/html": [
       "<div>\n",
       "<style scoped>\n",
       "    .dataframe tbody tr th:only-of-type {\n",
       "        vertical-align: middle;\n",
       "    }\n",
       "\n",
       "    .dataframe tbody tr th {\n",
       "        vertical-align: top;\n",
       "    }\n",
       "\n",
       "    .dataframe thead th {\n",
       "        text-align: right;\n",
       "    }\n",
       "</style>\n",
       "<table border=\"1\" class=\"dataframe\">\n",
       "  <thead>\n",
       "    <tr style=\"text-align: right;\">\n",
       "      <th></th>\n",
       "      <th>Survived</th>\n",
       "      <th>Pclass</th>\n",
       "      <th>Sex</th>\n",
       "      <th>Age</th>\n",
       "      <th>SibSp</th>\n",
       "      <th>Parch</th>\n",
       "      <th>Fare</th>\n",
       "      <th>Embarked</th>\n",
       "    </tr>\n",
       "  </thead>\n",
       "  <tbody>\n",
       "    <tr>\n",
       "      <th>0</th>\n",
       "      <td>0</td>\n",
       "      <td>3</td>\n",
       "      <td>male</td>\n",
       "      <td>22.0</td>\n",
       "      <td>1</td>\n",
       "      <td>0</td>\n",
       "      <td>7.2500</td>\n",
       "      <td>S</td>\n",
       "    </tr>\n",
       "    <tr>\n",
       "      <th>1</th>\n",
       "      <td>1</td>\n",
       "      <td>1</td>\n",
       "      <td>female</td>\n",
       "      <td>38.0</td>\n",
       "      <td>1</td>\n",
       "      <td>0</td>\n",
       "      <td>71.2833</td>\n",
       "      <td>C</td>\n",
       "    </tr>\n",
       "    <tr>\n",
       "      <th>2</th>\n",
       "      <td>1</td>\n",
       "      <td>3</td>\n",
       "      <td>female</td>\n",
       "      <td>26.0</td>\n",
       "      <td>0</td>\n",
       "      <td>0</td>\n",
       "      <td>7.9250</td>\n",
       "      <td>S</td>\n",
       "    </tr>\n",
       "    <tr>\n",
       "      <th>3</th>\n",
       "      <td>1</td>\n",
       "      <td>1</td>\n",
       "      <td>female</td>\n",
       "      <td>35.0</td>\n",
       "      <td>1</td>\n",
       "      <td>0</td>\n",
       "      <td>53.1000</td>\n",
       "      <td>S</td>\n",
       "    </tr>\n",
       "    <tr>\n",
       "      <th>4</th>\n",
       "      <td>0</td>\n",
       "      <td>3</td>\n",
       "      <td>male</td>\n",
       "      <td>35.0</td>\n",
       "      <td>0</td>\n",
       "      <td>0</td>\n",
       "      <td>8.0500</td>\n",
       "      <td>S</td>\n",
       "    </tr>\n",
       "  </tbody>\n",
       "</table>\n",
       "</div>"
      ],
      "text/plain": [
       "   Survived  Pclass     Sex   Age  SibSp  Parch     Fare Embarked\n",
       "0         0       3    male  22.0      1      0   7.2500        S\n",
       "1         1       1  female  38.0      1      0  71.2833        C\n",
       "2         1       3  female  26.0      0      0   7.9250        S\n",
       "3         1       1  female  35.0      1      0  53.1000        S\n",
       "4         0       3    male  35.0      0      0   8.0500        S"
      ]
     },
     "execution_count": 178,
     "metadata": {},
     "output_type": "execute_result"
    }
   ],
   "source": [
    "df.head()"
   ]
  },
  {
   "cell_type": "code",
   "execution_count": 179,
   "id": "0f503c04",
   "metadata": {},
   "outputs": [
    {
     "data": {
      "text/plain": [
       "<Axes: >"
      ]
     },
     "execution_count": 179,
     "metadata": {},
     "output_type": "execute_result"
    },
    {
     "data": {
      "image/png": "[encoded data removed]",
      "text/plain": [
       "<Figure size 640x480 with 2 Axes>"
      ]
     },
     "metadata": {},
     "output_type": "display_data"
    }
   ],
   "source": [
    "sns.heatmap(df_num.corr(),annot=True)"
   ]
  },
  {
   "cell_type": "markdown",
   "id": "77d274e0",
   "metadata": {},
   "source": [
    "## Null Values"
   ]
  },
  {
   "cell_type": "code",
   "execution_count": 180,
   "id": "55546a79",
   "metadata": {},
   "outputs": [
    {
     "data": {
      "text/plain": [
       "Survived     0.000000\n",
       "Pclass       0.000000\n",
       "Sex          0.000000\n",
       "Age         19.865320\n",
       "SibSp        0.000000\n",
       "Parch        0.000000\n",
       "Fare         0.000000\n",
       "Embarked     0.224467\n",
       "dtype: float64"
      ]
     },
     "execution_count": 180,
     "metadata": {},
     "output_type": "execute_result"
    }
   ],
   "source": [
    "# Null values\n",
    "\n",
    "df.isnull().sum()/df.shape[0]*100"
   ]
  },
  {
   "cell_type": "code",
   "execution_count": 181,
   "id": "46b2cef4",
   "metadata": {},
   "outputs": [],
   "source": [
    "# we have to impute null values, but before that we need to check it contains outliers or not"
   ]
  },
  {
   "cell_type": "markdown",
   "id": "7f0ca3b5",
   "metadata": {},
   "source": [
    "## Outliers"
   ]
  },
  {
   "cell_type": "code",
   "execution_count": 182,
   "id": "2aead803",
   "metadata": {},
   "outputs": [
    {
     "data": {
      "image/png": "[encoded data removed]",
      "text/plain": [
       "<Figure size 640x480 with 1 Axes>"
      ]
     },
     "metadata": {},
     "output_type": "display_data"
    },
    {
     "data": {
      "image/png": "[encoded data removed]",
      "text/plain": [
       "<Figure size 640x480 with 1 Axes>"
      ]
     },
     "metadata": {},
     "output_type": "display_data"
    },
    {
     "data": {
      "image/png": "[encoded data removed]",
      "text/plain": [
       "<Figure size 640x480 with 1 Axes>"
      ]
     },
     "metadata": {},
     "output_type": "display_data"
    },
    {
     "data": {
      "image/png": "[encoded data removed]",
      "text/plain": [
       "<Figure size 640x480 with 1 Axes>"
      ]
     },
     "metadata": {},
     "output_type": "display_data"
    },
    {
     "data": {
      "image/png": "[encoded data removed]",
      "text/plain": [
       "<Figure size 640x480 with 1 Axes>"
      ]
     },
     "metadata": {},
     "output_type": "display_data"
    },
    {
     "data": {
      "image/png": "[encoded data removed]",
      "text/plain": [
       "<Figure size 640x480 with 1 Axes>"
      ]
     },
     "metadata": {},
     "output_type": "display_data"
    }
   ],
   "source": [
    "for i in df.columns:\n",
    "    if df[i].dtype!='object':\n",
    "        sns.boxplot(df[i])\n",
    "        plt.show()"
   ]
  },
  {
   "cell_type": "code",
   "execution_count": 183,
   "id": "9035cfbe",
   "metadata": {},
   "outputs": [],
   "source": [
    "# Age column contains outliers so we impute the null values of age column by median\n",
    "# embarked is categorical column so we impute the null values of embarked column by mode"
   ]
  },
  {
   "cell_type": "markdown",
   "id": "c454aeed",
   "metadata": {},
   "source": [
    "## Imputing Null values"
   ]
  },
  {
   "cell_type": "code",
   "execution_count": 184,
   "id": "167c1212",
   "metadata": {},
   "outputs": [],
   "source": [
    "df['Age'] = df['Age'].fillna(df['Age'].median())\n"
   ]
  },
  {
   "cell_type": "code",
   "execution_count": 185,
   "id": "6b473dd7",
   "metadata": {},
   "outputs": [
    {
     "data": {
      "text/plain": [
       "0    S\n",
       "Name: Embarked, dtype: object"
      ]
     },
     "execution_count": 185,
     "metadata": {},
     "output_type": "execute_result"
    }
   ],
   "source": [
    "mode = df['Embarked'].mode()\n",
    "\n",
    "mode"
   ]
  },
  {
   "cell_type": "code",
   "execution_count": 186,
   "id": "9294e890",
   "metadata": {},
   "outputs": [],
   "source": [
    "df['Embarked'] = df['Embarked'].fillna('S')"
   ]
  },
  {
   "cell_type": "code",
   "execution_count": 187,
   "id": "9a97a466",
   "metadata": {},
   "outputs": [
    {
     "data": {
      "text/plain": [
       "Survived    0\n",
       "Pclass      0\n",
       "Sex         0\n",
       "Age         0\n",
       "SibSp       0\n",
       "Parch       0\n",
       "Fare        0\n",
       "Embarked    0\n",
       "dtype: int64"
      ]
     },
     "execution_count": 187,
     "metadata": {},
     "output_type": "execute_result"
    }
   ],
   "source": [
    "df.isnull().sum()"
   ]
  },
  {
   "cell_type": "markdown",
   "id": "fdd82d18",
   "metadata": {},
   "source": [
    "## visualization"
   ]
  },
  {
   "cell_type": "code",
   "execution_count": 188,
   "id": "13516dee",
   "metadata": {},
   "outputs": [
    {
     "data": {
      "text/plain": [
       "<seaborn.axisgrid.PairGrid at 0x275892954d0>"
      ]
     },
     "execution_count": 188,
     "metadata": {},
     "output_type": "execute_result"
    },
    {
     "data": {
      "image/png": "[encoded data removed]",
      "text/plain": [
       "<Figure size 1500x1500 with 42 Axes>"
      ]
     },
     "metadata": {},
     "output_type": "display_data"
    }
   ],
   "source": [
    "sns.pairplot(data=df)"
   ]
  },
  {
   "cell_type": "code",
   "execution_count": 189,
   "id": "d995fc35",
   "metadata": {},
   "outputs": [
    {
     "data": {
      "text/plain": [
       "Survived      int64\n",
       "Pclass        int64\n",
       "Sex          object\n",
       "Age         float64\n",
       "SibSp         int64\n",
       "Parch         int64\n",
       "Fare        float64\n",
       "Embarked     object\n",
       "dtype: object"
      ]
     },
     "execution_count": 189,
     "metadata": {},
     "output_type": "execute_result"
    }
   ],
   "source": [
    "df.dtypes"
   ]
  },
  {
   "cell_type": "code",
   "execution_count": 190,
   "id": "0103b264",
   "metadata": {},
   "outputs": [
    {
     "data": {
      "text/plain": [
       "<Axes: xlabel='Survived'>"
      ]
     },
     "execution_count": 190,
     "metadata": {},
     "output_type": "execute_result"
    },
    {
     "data": {
      "image/png": "[encoded data removed]",
      "text/plain": [
       "<Figure size 640x480 with 1 Axes>"
      ]
     },
     "metadata": {},
     "output_type": "display_data"
    }
   ],
   "source": [
    "df.groupby('Survived')['Age'].mean().plot(kind='bar')"
   ]
  },
  {
   "cell_type": "code",
   "execution_count": 191,
   "id": "ac784032",
   "metadata": {},
   "outputs": [
    {
     "data": {
      "text/plain": [
       "<Axes: xlabel='Embarked'>"
      ]
     },
     "execution_count": 191,
     "metadata": {},
     "output_type": "execute_result"
    },
    {
     "data": {
      "image/png": "[encoded data removed]",
      "text/plain": [
       "<Figure size 640x480 with 1 Axes>"
      ]
     },
     "metadata": {},
     "output_type": "display_data"
    }
   ],
   "source": [
    "df.groupby('Embarked')['Fare'].mean().plot(kind='bar')"
   ]
  },
  {
   "cell_type": "code",
   "execution_count": 192,
   "id": "57b9b50a",
   "metadata": {},
   "outputs": [],
   "source": [
    "# inference:-\n",
    "\n",
    "# peoples are survived and not survived their age are near about same.\n",
    "# people are coming from c Embarked are paid more fare fess than Q and S"
   ]
  },
  {
   "cell_type": "markdown",
   "id": "e4ae5699",
   "metadata": {},
   "source": [
    "## Outlier Treatment "
   ]
  },
  {
   "cell_type": "code",
   "execution_count": 193,
   "id": "7b6c97b2",
   "metadata": {},
   "outputs": [
    {
     "data": {
      "text/plain": [
       "Survived      int64\n",
       "Pclass        int64\n",
       "Sex          object\n",
       "Age         float64\n",
       "SibSp         int64\n",
       "Parch         int64\n",
       "Fare        float64\n",
       "Embarked     object\n",
       "dtype: object"
      ]
     },
     "execution_count": 193,
     "metadata": {},
     "output_type": "execute_result"
    }
   ],
   "source": [
    "df.dtypes"
   ]
  },
  {
   "cell_type": "code",
   "execution_count": 194,
   "id": "2b010b9a",
   "metadata": {},
   "outputs": [],
   "source": [
    "df_num = df.select_dtypes(exclude='object')"
   ]
  },
  {
   "cell_type": "code",
   "execution_count": 195,
   "id": "804ab8be",
   "metadata": {},
   "outputs": [],
   "source": [
    "q1 = df_num.quantile(0.25)\n",
    "\n",
    "q3 = df_num.quantile(0.75)\n",
    "\n",
    "iqr = q3 - q1 \n",
    "\n",
    "ll = q1 - (1.5*iqr)\n",
    "\n",
    "ul = q3 + (1.5*iqr)\n",
    "\n",
    "df = df[~((df_num < ll)|(df_num > ul)).any(axis=1)]"
   ]
  },
  {
   "cell_type": "code",
   "execution_count": 196,
   "id": "95bc7858",
   "metadata": {},
   "outputs": [
    {
     "data": {
      "text/html": [
       "<div>\n",
       "<style scoped>\n",
       "    .dataframe tbody tr th:only-of-type {\n",
       "        vertical-align: middle;\n",
       "    }\n",
       "\n",
       "    .dataframe tbody tr th {\n",
       "        vertical-align: top;\n",
       "    }\n",
       "\n",
       "    .dataframe thead th {\n",
       "        text-align: right;\n",
       "    }\n",
       "</style>\n",
       "<table border=\"1\" class=\"dataframe\">\n",
       "  <thead>\n",
       "    <tr style=\"text-align: right;\">\n",
       "      <th></th>\n",
       "      <th>Survived</th>\n",
       "      <th>Pclass</th>\n",
       "      <th>Sex</th>\n",
       "      <th>Age</th>\n",
       "      <th>SibSp</th>\n",
       "      <th>Parch</th>\n",
       "      <th>Fare</th>\n",
       "      <th>Embarked</th>\n",
       "    </tr>\n",
       "  </thead>\n",
       "  <tbody>\n",
       "    <tr>\n",
       "      <th>0</th>\n",
       "      <td>0</td>\n",
       "      <td>3</td>\n",
       "      <td>male</td>\n",
       "      <td>22.0</td>\n",
       "      <td>1</td>\n",
       "      <td>0</td>\n",
       "      <td>7.2500</td>\n",
       "      <td>S</td>\n",
       "    </tr>\n",
       "    <tr>\n",
       "      <th>2</th>\n",
       "      <td>1</td>\n",
       "      <td>3</td>\n",
       "      <td>female</td>\n",
       "      <td>26.0</td>\n",
       "      <td>0</td>\n",
       "      <td>0</td>\n",
       "      <td>7.9250</td>\n",
       "      <td>S</td>\n",
       "    </tr>\n",
       "    <tr>\n",
       "      <th>3</th>\n",
       "      <td>1</td>\n",
       "      <td>1</td>\n",
       "      <td>female</td>\n",
       "      <td>35.0</td>\n",
       "      <td>1</td>\n",
       "      <td>0</td>\n",
       "      <td>53.1000</td>\n",
       "      <td>S</td>\n",
       "    </tr>\n",
       "    <tr>\n",
       "      <th>4</th>\n",
       "      <td>0</td>\n",
       "      <td>3</td>\n",
       "      <td>male</td>\n",
       "      <td>35.0</td>\n",
       "      <td>0</td>\n",
       "      <td>0</td>\n",
       "      <td>8.0500</td>\n",
       "      <td>S</td>\n",
       "    </tr>\n",
       "    <tr>\n",
       "      <th>5</th>\n",
       "      <td>0</td>\n",
       "      <td>3</td>\n",
       "      <td>male</td>\n",
       "      <td>28.0</td>\n",
       "      <td>0</td>\n",
       "      <td>0</td>\n",
       "      <td>8.4583</td>\n",
       "      <td>Q</td>\n",
       "    </tr>\n",
       "  </tbody>\n",
       "</table>\n",
       "</div>"
      ],
      "text/plain": [
       "   Survived  Pclass     Sex   Age  SibSp  Parch     Fare Embarked\n",
       "0         0       3    male  22.0      1      0   7.2500        S\n",
       "2         1       3  female  26.0      0      0   7.9250        S\n",
       "3         1       1  female  35.0      1      0  53.1000        S\n",
       "4         0       3    male  35.0      0      0   8.0500        S\n",
       "5         0       3    male  28.0      0      0   8.4583        Q"
      ]
     },
     "execution_count": 196,
     "metadata": {},
     "output_type": "execute_result"
    }
   ],
   "source": [
    "df.head()"
   ]
  },
  {
   "cell_type": "code",
   "execution_count": 197,
   "id": "764bd52e",
   "metadata": {},
   "outputs": [],
   "source": [
    "# we need to scale the data for numerical features"
   ]
  },
  {
   "cell_type": "markdown",
   "id": "c4b6788c",
   "metadata": {},
   "source": [
    "## Scaling"
   ]
  },
  {
   "cell_type": "code",
   "execution_count": 198,
   "id": "6f1f9a66",
   "metadata": {},
   "outputs": [
    {
     "data": {
      "text/plain": [
       "Index(['Survived', 'Pclass', 'Sex', 'Age', 'SibSp', 'Parch', 'Fare',\n",
       "       'Embarked'],\n",
       "      dtype='object')"
      ]
     },
     "execution_count": 198,
     "metadata": {},
     "output_type": "execute_result"
    }
   ],
   "source": [
    "df.columns"
   ]
  },
  {
   "cell_type": "code",
   "execution_count": 199,
   "id": "85cf5ca4",
   "metadata": {},
   "outputs": [],
   "source": [
    "from sklearn.preprocessing import StandardScaler\n",
    "\n",
    "std = StandardScaler()"
   ]
  },
  {
   "cell_type": "code",
   "execution_count": 200,
   "id": "5ea54280",
   "metadata": {},
   "outputs": [],
   "source": [
    "import warnings \n",
    "\n",
    "warnings.filterwarnings('ignore')"
   ]
  },
  {
   "cell_type": "code",
   "execution_count": 201,
   "id": "395c3f89",
   "metadata": {},
   "outputs": [],
   "source": [
    "df_scale = df[['Pclass', 'Age', 'SibSp', 'Parch', 'Fare']]"
   ]
  },
  {
   "cell_type": "code",
   "execution_count": 202,
   "id": "9f70511b",
   "metadata": {},
   "outputs": [],
   "source": [
    "for i in df_scale.columns:\n",
    "        df[i] = std.fit_transform(df[[i]])\n",
    "        "
   ]
  },
  {
   "cell_type": "code",
   "execution_count": 203,
   "id": "6ad6415b",
   "metadata": {},
   "outputs": [
    {
     "data": {
      "text/html": [
       "<div>\n",
       "<style scoped>\n",
       "    .dataframe tbody tr th:only-of-type {\n",
       "        vertical-align: middle;\n",
       "    }\n",
       "\n",
       "    .dataframe tbody tr th {\n",
       "        vertical-align: top;\n",
       "    }\n",
       "\n",
       "    .dataframe thead th {\n",
       "        text-align: right;\n",
       "    }\n",
       "</style>\n",
       "<table border=\"1\" class=\"dataframe\">\n",
       "  <thead>\n",
       "    <tr style=\"text-align: right;\">\n",
       "      <th></th>\n",
       "      <th>Survived</th>\n",
       "      <th>Pclass</th>\n",
       "      <th>Sex</th>\n",
       "      <th>Age</th>\n",
       "      <th>SibSp</th>\n",
       "      <th>Parch</th>\n",
       "      <th>Fare</th>\n",
       "      <th>Embarked</th>\n",
       "    </tr>\n",
       "  </thead>\n",
       "  <tbody>\n",
       "    <tr>\n",
       "      <th>0</th>\n",
       "      <td>0</td>\n",
       "      <td>0.67833</td>\n",
       "      <td>male</td>\n",
       "      <td>-0.854761</td>\n",
       "      <td>1.800735</td>\n",
       "      <td>0.0</td>\n",
       "      <td>-0.609448</td>\n",
       "      <td>S</td>\n",
       "    </tr>\n",
       "    <tr>\n",
       "      <th>2</th>\n",
       "      <td>1</td>\n",
       "      <td>0.67833</td>\n",
       "      <td>female</td>\n",
       "      <td>-0.386610</td>\n",
       "      <td>-0.448235</td>\n",
       "      <td>0.0</td>\n",
       "      <td>-0.555858</td>\n",
       "      <td>S</td>\n",
       "    </tr>\n",
       "    <tr>\n",
       "      <th>3</th>\n",
       "      <td>1</td>\n",
       "      <td>-2.04917</td>\n",
       "      <td>female</td>\n",
       "      <td>0.666730</td>\n",
       "      <td>1.800735</td>\n",
       "      <td>0.0</td>\n",
       "      <td>3.030715</td>\n",
       "      <td>S</td>\n",
       "    </tr>\n",
       "    <tr>\n",
       "      <th>4</th>\n",
       "      <td>0</td>\n",
       "      <td>0.67833</td>\n",
       "      <td>male</td>\n",
       "      <td>0.666730</td>\n",
       "      <td>-0.448235</td>\n",
       "      <td>0.0</td>\n",
       "      <td>-0.545934</td>\n",
       "      <td>S</td>\n",
       "    </tr>\n",
       "    <tr>\n",
       "      <th>5</th>\n",
       "      <td>0</td>\n",
       "      <td>0.67833</td>\n",
       "      <td>male</td>\n",
       "      <td>-0.152535</td>\n",
       "      <td>-0.448235</td>\n",
       "      <td>0.0</td>\n",
       "      <td>-0.513517</td>\n",
       "      <td>Q</td>\n",
       "    </tr>\n",
       "  </tbody>\n",
       "</table>\n",
       "</div>"
      ],
      "text/plain": [
       "   Survived   Pclass     Sex       Age     SibSp  Parch      Fare Embarked\n",
       "0         0  0.67833    male -0.854761  1.800735    0.0 -0.609448        S\n",
       "2         1  0.67833  female -0.386610 -0.448235    0.0 -0.555858        S\n",
       "3         1 -2.04917  female  0.666730  1.800735    0.0  3.030715        S\n",
       "4         0  0.67833    male  0.666730 -0.448235    0.0 -0.545934        S\n",
       "5         0  0.67833    male -0.152535 -0.448235    0.0 -0.513517        Q"
      ]
     },
     "execution_count": 203,
     "metadata": {},
     "output_type": "execute_result"
    }
   ],
   "source": [
    "df.head()"
   ]
  },
  {
   "cell_type": "markdown",
   "id": "bb89407d",
   "metadata": {},
   "source": [
    "## Encoding"
   ]
  },
  {
   "cell_type": "code",
   "execution_count": 204,
   "id": "edf33125",
   "metadata": {},
   "outputs": [],
   "source": [
    "# we need to encode the categorical variable \n",
    "\n",
    "# Reason :- ML model does not take categorical values for prediction so we need to convert into numerical form"
   ]
  },
  {
   "cell_type": "code",
   "execution_count": 205,
   "id": "40c268ad",
   "metadata": {},
   "outputs": [],
   "source": [
    "df = pd.get_dummies(data=df,columns=['Sex','Embarked'],dtype='int')"
   ]
  },
  {
   "cell_type": "code",
   "execution_count": 206,
   "id": "f5be7f74",
   "metadata": {},
   "outputs": [
    {
     "data": {
      "text/html": [
       "<div>\n",
       "<style scoped>\n",
       "    .dataframe tbody tr th:only-of-type {\n",
       "        vertical-align: middle;\n",
       "    }\n",
       "\n",
       "    .dataframe tbody tr th {\n",
       "        vertical-align: top;\n",
       "    }\n",
       "\n",
       "    .dataframe thead th {\n",
       "        text-align: right;\n",
       "    }\n",
       "</style>\n",
       "<table border=\"1\" class=\"dataframe\">\n",
       "  <thead>\n",
       "    <tr style=\"text-align: right;\">\n",
       "      <th></th>\n",
       "      <th>Survived</th>\n",
       "      <th>Pclass</th>\n",
       "      <th>Age</th>\n",
       "      <th>SibSp</th>\n",
       "      <th>Parch</th>\n",
       "      <th>Fare</th>\n",
       "      <th>Sex_female</th>\n",
       "      <th>Sex_male</th>\n",
       "      <th>Embarked_C</th>\n",
       "      <th>Embarked_Q</th>\n",
       "      <th>Embarked_S</th>\n",
       "    </tr>\n",
       "  </thead>\n",
       "  <tbody>\n",
       "    <tr>\n",
       "      <th>0</th>\n",
       "      <td>0</td>\n",
       "      <td>0.67833</td>\n",
       "      <td>-0.854761</td>\n",
       "      <td>1.800735</td>\n",
       "      <td>0.0</td>\n",
       "      <td>-0.609448</td>\n",
       "      <td>0</td>\n",
       "      <td>1</td>\n",
       "      <td>0</td>\n",
       "      <td>0</td>\n",
       "      <td>1</td>\n",
       "    </tr>\n",
       "    <tr>\n",
       "      <th>2</th>\n",
       "      <td>1</td>\n",
       "      <td>0.67833</td>\n",
       "      <td>-0.386610</td>\n",
       "      <td>-0.448235</td>\n",
       "      <td>0.0</td>\n",
       "      <td>-0.555858</td>\n",
       "      <td>1</td>\n",
       "      <td>0</td>\n",
       "      <td>0</td>\n",
       "      <td>0</td>\n",
       "      <td>1</td>\n",
       "    </tr>\n",
       "    <tr>\n",
       "      <th>3</th>\n",
       "      <td>1</td>\n",
       "      <td>-2.04917</td>\n",
       "      <td>0.666730</td>\n",
       "      <td>1.800735</td>\n",
       "      <td>0.0</td>\n",
       "      <td>3.030715</td>\n",
       "      <td>1</td>\n",
       "      <td>0</td>\n",
       "      <td>0</td>\n",
       "      <td>0</td>\n",
       "      <td>1</td>\n",
       "    </tr>\n",
       "    <tr>\n",
       "      <th>4</th>\n",
       "      <td>0</td>\n",
       "      <td>0.67833</td>\n",
       "      <td>0.666730</td>\n",
       "      <td>-0.448235</td>\n",
       "      <td>0.0</td>\n",
       "      <td>-0.545934</td>\n",
       "      <td>0</td>\n",
       "      <td>1</td>\n",
       "      <td>0</td>\n",
       "      <td>0</td>\n",
       "      <td>1</td>\n",
       "    </tr>\n",
       "    <tr>\n",
       "      <th>5</th>\n",
       "      <td>0</td>\n",
       "      <td>0.67833</td>\n",
       "      <td>-0.152535</td>\n",
       "      <td>-0.448235</td>\n",
       "      <td>0.0</td>\n",
       "      <td>-0.513517</td>\n",
       "      <td>0</td>\n",
       "      <td>1</td>\n",
       "      <td>0</td>\n",
       "      <td>1</td>\n",
       "      <td>0</td>\n",
       "    </tr>\n",
       "  </tbody>\n",
       "</table>\n",
       "</div>"
      ],
      "text/plain": [
       "   Survived   Pclass       Age     SibSp  Parch      Fare  Sex_female  \\\n",
       "0         0  0.67833 -0.854761  1.800735    0.0 -0.609448           0   \n",
       "2         1  0.67833 -0.386610 -0.448235    0.0 -0.555858           1   \n",
       "3         1 -2.04917  0.666730  1.800735    0.0  3.030715           1   \n",
       "4         0  0.67833  0.666730 -0.448235    0.0 -0.545934           0   \n",
       "5         0  0.67833 -0.152535 -0.448235    0.0 -0.513517           0   \n",
       "\n",
       "   Sex_male  Embarked_C  Embarked_Q  Embarked_S  \n",
       "0         1           0           0           1  \n",
       "2         0           0           0           1  \n",
       "3         0           0           0           1  \n",
       "4         1           0           0           1  \n",
       "5         1           0           1           0  "
      ]
     },
     "execution_count": 206,
     "metadata": {},
     "output_type": "execute_result"
    }
   ],
   "source": [
    "df.head()"
   ]
  },
  {
   "cell_type": "markdown",
   "id": "825c03ff",
   "metadata": {},
   "source": [
    "## distribution of T.V."
   ]
  },
  {
   "cell_type": "code",
   "execution_count": 207,
   "id": "cacd40f1",
   "metadata": {},
   "outputs": [
    {
     "data": {
      "text/plain": [
       "Survived\n",
       "0    70.017331\n",
       "1    29.982669\n",
       "Name: count, dtype: float64"
      ]
     },
     "execution_count": 207,
     "metadata": {},
     "output_type": "execute_result"
    }
   ],
   "source": [
    "# no need of smote analysis here\n",
    "\n",
    "df['Survived'].value_counts()/df.shape[0]*100"
   ]
  },
  {
   "cell_type": "markdown",
   "id": "f5443ea7",
   "metadata": {},
   "source": [
    "## train_test_split"
   ]
  },
  {
   "cell_type": "code",
   "execution_count": 208,
   "id": "ec3cf2ba",
   "metadata": {},
   "outputs": [],
   "source": [
    "from sklearn.model_selection import train_test_split\n",
    "\n",
    "# split the data \n",
    "\n",
    "x = df.drop('Survived',axis=1)   # independent variables\n",
    "y = df['Survived']               # dependent variable (Target)\n",
    "\n",
    "# we split the data into 70:30 portion...\n",
    "\n",
    "xtrain,xtest,ytrain,ytest = train_test_split(x,y,train_size=0.70,random_state=10)"
   ]
  },
  {
   "cell_type": "markdown",
   "id": "4a954442",
   "metadata": {},
   "source": [
    "## Model Building"
   ]
  },
  {
   "cell_type": "code",
   "execution_count": 209,
   "id": "88c6044c",
   "metadata": {},
   "outputs": [
    {
     "name": "stdout",
     "output_type": "stream",
     "text": [
      "              precision    recall  f1-score   support\n",
      "\n",
      "           0       0.85      0.88      0.86       281\n",
      "           1       0.70      0.66      0.68       122\n",
      "\n",
      "    accuracy                           0.81       403\n",
      "   macro avg       0.77      0.77      0.77       403\n",
      "weighted avg       0.81      0.81      0.81       403\n",
      "\n",
      "              precision    recall  f1-score   support\n",
      "\n",
      "           0       0.82      0.89      0.85       123\n",
      "           1       0.66      0.53      0.59        51\n",
      "\n",
      "    accuracy                           0.78       174\n",
      "   macro avg       0.74      0.71      0.72       174\n",
      "weighted avg       0.77      0.78      0.77       174\n",
      "\n"
     ]
    }
   ],
   "source": [
    "# LogisticRegression\n",
    "\n",
    "from sklearn.linear_model import LogisticRegression\n",
    "\n",
    "LR = LogisticRegression()\n",
    "LR_model = LR.fit(xtrain,ytrain)\n",
    "train_pred_1 = LR_model.predict(xtrain)\n",
    "test_pred_1 = LR_model.predict(xtest)\n",
    "         \n",
    "from sklearn.metrics import classification_report\n",
    "\n",
    "print(classification_report(ytrain,train_pred_1))\n",
    "print(classification_report(ytest,test_pred_1))\n"
   ]
  },
  {
   "cell_type": "code",
   "execution_count": 212,
   "id": "4c2dd14a",
   "metadata": {},
   "outputs": [
    {
     "name": "stdout",
     "output_type": "stream",
     "text": [
      "              precision    recall  f1-score   support\n",
      "\n",
      "           0       0.97      1.00      0.98       281\n",
      "           1       0.99      0.92      0.95       122\n",
      "\n",
      "    accuracy                           0.97       403\n",
      "   macro avg       0.98      0.96      0.97       403\n",
      "weighted avg       0.97      0.97      0.97       403\n",
      "\n",
      "              precision    recall  f1-score   support\n",
      "\n",
      "           0       0.81      0.82      0.81       123\n",
      "           1       0.55      0.53      0.54        51\n",
      "\n",
      "    accuracy                           0.74       174\n",
      "   macro avg       0.68      0.68      0.68       174\n",
      "weighted avg       0.73      0.74      0.73       174\n",
      "\n"
     ]
    }
   ],
   "source": [
    "from sklearn.tree import DecisionTreeClassifier\n",
    "\n",
    "DT = DecisionTreeClassifier()\n",
    "DT_model = DT.fit(xtrain,ytrain)\n",
    "train_pred_2 = DT_model.predict(xtrain)\n",
    "test_pred_2 = DT_model.predict(xtest)\n",
    "\n",
    "print(classification_report(ytrain,train_pred_2))\n",
    "print(classification_report(ytest,test_pred_2))\n"
   ]
  },
  {
   "cell_type": "code",
   "execution_count": 213,
   "id": "4b554f03",
   "metadata": {},
   "outputs": [
    {
     "name": "stdout",
     "output_type": "stream",
     "text": [
      "              precision    recall  f1-score   support\n",
      "\n",
      "           0       0.97      0.99      0.98       281\n",
      "           1       0.98      0.93      0.95       122\n",
      "\n",
      "    accuracy                           0.97       403\n",
      "   macro avg       0.98      0.96      0.97       403\n",
      "weighted avg       0.97      0.97      0.97       403\n",
      "\n",
      "              precision    recall  f1-score   support\n",
      "\n",
      "           0       0.86      0.87      0.86       123\n",
      "           1       0.67      0.65      0.66        51\n",
      "\n",
      "    accuracy                           0.80       174\n",
      "   macro avg       0.76      0.76      0.76       174\n",
      "weighted avg       0.80      0.80      0.80       174\n",
      "\n"
     ]
    }
   ],
   "source": [
    "from sklearn.ensemble import RandomForestClassifier\n",
    "\n",
    "RD = RandomForestClassifier()\n",
    "RD_model = RD.fit(xtrain,ytrain)\n",
    "train_pred_3 = RD_model.predict(xtrain)\n",
    "test_pred_3 = RD_model.predict(xtest)\n",
    "\n",
    "print(classification_report(ytrain,train_pred_3))\n",
    "print(classification_report(ytest,test_pred_3))\n"
   ]
  },
  {
   "cell_type": "markdown",
   "id": "50926eae",
   "metadata": {},
   "source": [
    "## GSCV"
   ]
  },
  {
   "cell_type": "code",
   "execution_count": 214,
   "id": "f5d7c05f",
   "metadata": {},
   "outputs": [
    {
     "name": "stdout",
     "output_type": "stream",
     "text": [
      "best_parametrs: {'min_samples_leaf': 2, 'min_samples_split': 3, 'n_estimators': 50}\n"
     ]
    }
   ],
   "source": [
    "# hyperparameter_tuning \n",
    "\n",
    "from sklearn.model_selection import GridSearchCV\n",
    "\n",
    "param_grid = {'n_estimators':[50,70,120,150,200],\n",
    "             'min_samples_split':[3,4,5,6,7],\n",
    "             'min_samples_leaf':[2,3,4,5,6,7]}\n",
    "\n",
    "from sklearn.metrics import roc_auc_score\n",
    "\n",
    "GSCV = GridSearchCV(estimator=RD,param_grid=param_grid,scoring=roc_auc_score,n_jobs=-1)\n",
    "GSCV_model = GSCV.fit(xtrain,ytrain)\n",
    "\n",
    "print(\"best_parametrs:\", GSCV_model.best_params_)"
   ]
  },
  {
   "cell_type": "code",
   "execution_count": 215,
   "id": "96f2a9eb",
   "metadata": {},
   "outputs": [
    {
     "name": "stdout",
     "output_type": "stream",
     "text": [
      "              precision    recall  f1-score   support\n",
      "\n",
      "           0       0.88      0.96      0.92       281\n",
      "           1       0.89      0.70      0.78       122\n",
      "\n",
      "    accuracy                           0.88       403\n",
      "   macro avg       0.88      0.83      0.85       403\n",
      "weighted avg       0.88      0.88      0.88       403\n",
      "\n",
      "              precision    recall  f1-score   support\n",
      "\n",
      "           0       0.84      0.91      0.87       123\n",
      "           1       0.73      0.59      0.65        51\n",
      "\n",
      "    accuracy                           0.82       174\n",
      "   macro avg       0.79      0.75      0.76       174\n",
      "weighted avg       0.81      0.82      0.81       174\n",
      "\n"
     ]
    }
   ],
   "source": [
    "# tuned_model (Random_forest_classifier)\n",
    "\n",
    "from sklearn.ensemble import RandomForestClassifier\n",
    "\n",
    "RD = RandomForestClassifier(min_samples_leaf = 2, min_samples_split= 3, n_estimators = 50)\n",
    "RD_model = RD.fit(xtrain,ytrain)\n",
    "train_pred_4 = RD_model.predict(xtrain)\n",
    "test_pred_4 = RD_model.predict(xtest)\n",
    "\n",
    "print(classification_report(ytrain,train_pred_4))\n",
    "print(classification_report(ytest,test_pred_4))\n"
   ]
  },
  {
   "cell_type": "markdown",
   "id": "a40d4ac7",
   "metadata": {},
   "source": [
    "## Confusion Matrix"
   ]
  },
  {
   "cell_type": "code",
   "execution_count": 216,
   "id": "4fe07cfa",
   "metadata": {},
   "outputs": [],
   "source": [
    "from sklearn.metrics import confusion_matrix\n",
    "\n",
    "cm = confusion_matrix(ytest,test_pred_4)\n",
    "tp = cm[1,1]\n",
    "tn = cm[0,0]\n",
    "fp = cm[0,1]\n",
    "fn = cm[1,0]"
   ]
  },
  {
   "cell_type": "code",
   "execution_count": 217,
   "id": "4cdda0db",
   "metadata": {},
   "outputs": [
    {
     "data": {
      "text/plain": [
       "<Axes: >"
      ]
     },
     "execution_count": 217,
     "metadata": {},
     "output_type": "execute_result"
    },
    {
     "data": {
      "image/png": "[encoded data removed]",
      "text/plain": [
       "<Figure size 640x480 with 2 Axes>"
      ]
     },
     "metadata": {},
     "output_type": "display_data"
    }
   ],
   "source": [
    "sns.heatmap(cm,annot=True)"
   ]
  },
  {
   "cell_type": "code",
   "execution_count": 218,
   "id": "08249f6f",
   "metadata": {},
   "outputs": [
    {
     "data": {
      "text/plain": [
       "array([[0.953218  , 0.046782  ],\n",
       "       [0.86864402, 0.13135598],\n",
       "       [0.24560856, 0.75439144],\n",
       "       [0.95277274, 0.04722726],\n",
       "       [0.99804878, 0.00195122],\n",
       "       [0.85827778, 0.14172222],\n",
       "       [0.92716729, 0.07283271],\n",
       "       [0.96314009, 0.03685991],\n",
       "       [0.83864461, 0.16135539],\n",
       "       [0.92645593, 0.07354407],\n",
       "       [0.90635208, 0.09364792],\n",
       "       [0.70849381, 0.29150619],\n",
       "       [0.99257901, 0.00742099],\n",
       "       [0.28048467, 0.71951533],\n",
       "       [0.55420758, 0.44579242],\n",
       "       [0.42858696, 0.57141304],\n",
       "       [0.24560856, 0.75439144],\n",
       "       [0.46378393, 0.53621607],\n",
       "       [0.99257901, 0.00742099],\n",
       "       [0.0671636 , 0.9328364 ],\n",
       "       [0.67097314, 0.32902686],\n",
       "       [0.9227403 , 0.0772597 ],\n",
       "       [0.0841677 , 0.9158323 ],\n",
       "       [0.98376307, 0.01623693],\n",
       "       [0.08516017, 0.91483983],\n",
       "       [0.34316199, 0.65683801],\n",
       "       [0.98468978, 0.01531022],\n",
       "       [0.80814428, 0.19185572],\n",
       "       [0.01166667, 0.98833333],\n",
       "       [0.98947677, 0.01052323],\n",
       "       [0.28048467, 0.71951533],\n",
       "       [0.9227403 , 0.0772597 ],\n",
       "       [0.83218778, 0.16781222],\n",
       "       [0.50539648, 0.49460352],\n",
       "       [0.60884321, 0.39115679],\n",
       "       [0.9387997 , 0.0612003 ],\n",
       "       [0.20397243, 0.79602757],\n",
       "       [0.9227403 , 0.0772597 ],\n",
       "       [0.81316573, 0.18683427],\n",
       "       [0.81719012, 0.18280988],\n",
       "       [0.25262359, 0.74737641],\n",
       "       [0.96102489, 0.03897511],\n",
       "       [0.84960053, 0.15039947],\n",
       "       [0.85796537, 0.14203463],\n",
       "       [0.92054937, 0.07945063],\n",
       "       [0.85796537, 0.14203463],\n",
       "       [0.79149694, 0.20850306],\n",
       "       [0.2897381 , 0.7102619 ],\n",
       "       [0.66149923, 0.33850077],\n",
       "       [0.28204762, 0.71795238],\n",
       "       [0.89657249, 0.10342751],\n",
       "       [0.46718487, 0.53281513],\n",
       "       [0.9845    , 0.0155    ],\n",
       "       [0.65621882, 0.34378118],\n",
       "       [0.58082468, 0.41917532],\n",
       "       [0.96102489, 0.03897511],\n",
       "       [0.81273376, 0.18726624],\n",
       "       [0.28709148, 0.71290852],\n",
       "       [0.13709524, 0.86290476],\n",
       "       [0.7086187 , 0.2913813 ],\n",
       "       [0.08516017, 0.91483983],\n",
       "       [0.5949073 , 0.4050927 ],\n",
       "       [0.76015116, 0.23984884],\n",
       "       [0.8798324 , 0.1201676 ],\n",
       "       [0.87332458, 0.12667542],\n",
       "       [0.99257901, 0.00742099],\n",
       "       [0.93846636, 0.06153364],\n",
       "       [0.93061557, 0.06938443],\n",
       "       [0.17980406, 0.82019594],\n",
       "       [0.85129266, 0.14870734],\n",
       "       [0.03611713, 0.96388287],\n",
       "       [0.82532769, 0.17467231],\n",
       "       [0.86612375, 0.13387625],\n",
       "       [0.88400116, 0.11599884],\n",
       "       [0.95580668, 0.04419332],\n",
       "       [0.99257901, 0.00742099],\n",
       "       [0.89227524, 0.10772476],\n",
       "       [0.9227403 , 0.0772597 ],\n",
       "       [0.96951435, 0.03048565],\n",
       "       [0.96102489, 0.03897511],\n",
       "       [0.55420758, 0.44579242],\n",
       "       [0.79347059, 0.20652941],\n",
       "       [0.47378491, 0.52621509],\n",
       "       [0.70447059, 0.29552941],\n",
       "       [0.55466674, 0.44533326],\n",
       "       [0.86405094, 0.13594906],\n",
       "       [0.76551648, 0.23448352],\n",
       "       [0.5972826 , 0.4027174 ],\n",
       "       [0.65658658, 0.34341342],\n",
       "       [0.61564644, 0.38435356],\n",
       "       [0.46020018, 0.53979982],\n",
       "       [0.65921882, 0.34078118],\n",
       "       [0.64910128, 0.35089872],\n",
       "       [0.97878926, 0.02121074],\n",
       "       [0.01867647, 0.98132353],\n",
       "       [0.93061557, 0.06938443],\n",
       "       [0.43683823, 0.56316177],\n",
       "       [0.96314009, 0.03685991],\n",
       "       [0.99257901, 0.00742099],\n",
       "       [0.63644927, 0.36355073],\n",
       "       [0.90680077, 0.09319923],\n",
       "       [0.25262359, 0.74737641],\n",
       "       [0.96102489, 0.03897511],\n",
       "       [0.98545593, 0.01454407],\n",
       "       [0.40608696, 0.59391304],\n",
       "       [0.68066776, 0.31933224],\n",
       "       [0.25757544, 0.74242456],\n",
       "       [0.04952381, 0.95047619],\n",
       "       [0.77426156, 0.22573844],\n",
       "       [0.87269135, 0.12730865],\n",
       "       [0.71986986, 0.28013014],\n",
       "       [0.9227403 , 0.0772597 ],\n",
       "       [0.79347059, 0.20652941],\n",
       "       [0.11219048, 0.88780952],\n",
       "       [0.73719013, 0.26280987],\n",
       "       [0.91214001, 0.08785999],\n",
       "       [0.97357289, 0.02642711],\n",
       "       [0.16684742, 0.83315258],\n",
       "       [0.98212259, 0.01787741],\n",
       "       [0.40839648, 0.59160352],\n",
       "       [0.99257901, 0.00742099],\n",
       "       [0.14233333, 0.85766667],\n",
       "       [0.39520018, 0.60479982],\n",
       "       [0.953218  , 0.046782  ],\n",
       "       [0.70447059, 0.29552941],\n",
       "       [0.82493839, 0.17506161],\n",
       "       [0.69719013, 0.30280987],\n",
       "       [0.8798324 , 0.1201676 ],\n",
       "       [0.73719013, 0.26280987],\n",
       "       [0.84362826, 0.15637174],\n",
       "       [0.86233449, 0.13766551],\n",
       "       [0.77129478, 0.22870522],\n",
       "       [0.94628688, 0.05371312],\n",
       "       [0.34316199, 0.65683801],\n",
       "       [0.95174164, 0.04825836],\n",
       "       [0.7155213 , 0.2844787 ],\n",
       "       [0.64154882, 0.35845118],\n",
       "       [0.84734438, 0.15265562],\n",
       "       [0.76904533, 0.23095467],\n",
       "       [0.82532769, 0.17467231],\n",
       "       [0.92777778, 0.07222222],\n",
       "       [0.91961753, 0.08038247],\n",
       "       [0.95850279, 0.04149721],\n",
       "       [0.91033812, 0.08966188],\n",
       "       [0.84846656, 0.15153344],\n",
       "       [0.93833333, 0.06166667],\n",
       "       [0.82532769, 0.17467231],\n",
       "       [0.98376307, 0.01623693],\n",
       "       [0.96102489, 0.03897511],\n",
       "       [0.16030406, 0.83969594],\n",
       "       [0.60460063, 0.39539937],\n",
       "       [0.99257901, 0.00742099],\n",
       "       [0.95996212, 0.04003788],\n",
       "       [0.98133584, 0.01866416],\n",
       "       [0.73864119, 0.26135881],\n",
       "       [0.96102489, 0.03897511],\n",
       "       [0.12542857, 0.87457143],\n",
       "       [0.92366783, 0.07633217],\n",
       "       [0.72748887, 0.27251113],\n",
       "       [0.96286042, 0.03713958],\n",
       "       [0.94678926, 0.05321074],\n",
       "       [0.64287047, 0.35712953],\n",
       "       [0.21831818, 0.78168182],\n",
       "       [0.48554103, 0.51445897],\n",
       "       [0.24918672, 0.75081328],\n",
       "       [0.92350867, 0.07649133],\n",
       "       [0.78020995, 0.21979005],\n",
       "       [0.96314009, 0.03685991],\n",
       "       [0.3097381 , 0.6902619 ],\n",
       "       [0.89649034, 0.10350966],\n",
       "       [0.68980392, 0.31019608],\n",
       "       [0.9663827 , 0.0336173 ],\n",
       "       [0.76526445, 0.23473555],\n",
       "       [0.95993826, 0.04006174]])"
      ]
     },
     "execution_count": 218,
     "metadata": {},
     "output_type": "execute_result"
    }
   ],
   "source": [
    "test_pred_proba = RD.predict_proba(xtest)\n",
    "\n",
    "test_pred_proba"
   ]
  },
  {
   "cell_type": "markdown",
   "id": "376e6fb9",
   "metadata": {},
   "source": [
    "## ROC-AUC-CURVE"
   ]
  },
  {
   "cell_type": "code",
   "execution_count": 219,
   "id": "791fa610",
   "metadata": {},
   "outputs": [],
   "source": [
    "from sklearn.metrics import roc_curve"
   ]
  },
  {
   "cell_type": "code",
   "execution_count": 220,
   "id": "23b63990",
   "metadata": {},
   "outputs": [],
   "source": [
    "fpr,tpr,thrs = roc_curve(ytest,test_pred_proba[:,1])"
   ]
  },
  {
   "cell_type": "code",
   "execution_count": 221,
   "id": "c343ca21",
   "metadata": {},
   "outputs": [
    {
     "data": {
      "text/html": [
       "<div>\n",
       "<style scoped>\n",
       "    .dataframe tbody tr th:only-of-type {\n",
       "        vertical-align: middle;\n",
       "    }\n",
       "\n",
       "    .dataframe tbody tr th {\n",
       "        vertical-align: top;\n",
       "    }\n",
       "\n",
       "    .dataframe thead th {\n",
       "        text-align: right;\n",
       "    }\n",
       "</style>\n",
       "<table border=\"1\" class=\"dataframe\">\n",
       "  <thead>\n",
       "    <tr style=\"text-align: right;\">\n",
       "      <th></th>\n",
       "      <th>FPR</th>\n",
       "      <th>TPR</th>\n",
       "      <th>THRESHOLD</th>\n",
       "    </tr>\n",
       "  </thead>\n",
       "  <tbody>\n",
       "    <tr>\n",
       "      <th>0</th>\n",
       "      <td>0.000000</td>\n",
       "      <td>0.000000</td>\n",
       "      <td>1.988333</td>\n",
       "    </tr>\n",
       "    <tr>\n",
       "      <th>1</th>\n",
       "      <td>0.000000</td>\n",
       "      <td>0.019608</td>\n",
       "      <td>0.988333</td>\n",
       "    </tr>\n",
       "    <tr>\n",
       "      <th>2</th>\n",
       "      <td>0.000000</td>\n",
       "      <td>0.117647</td>\n",
       "      <td>0.915832</td>\n",
       "    </tr>\n",
       "    <tr>\n",
       "      <th>3</th>\n",
       "      <td>0.008130</td>\n",
       "      <td>0.137255</td>\n",
       "      <td>0.914840</td>\n",
       "    </tr>\n",
       "    <tr>\n",
       "      <th>4</th>\n",
       "      <td>0.008130</td>\n",
       "      <td>0.235294</td>\n",
       "      <td>0.839696</td>\n",
       "    </tr>\n",
       "    <tr>\n",
       "      <th>...</th>\n",
       "      <td>...</td>\n",
       "      <td>...</td>\n",
       "      <td>...</td>\n",
       "    </tr>\n",
       "    <tr>\n",
       "      <th>68</th>\n",
       "      <td>0.886179</td>\n",
       "      <td>1.000000</td>\n",
       "      <td>0.017877</td>\n",
       "    </tr>\n",
       "    <tr>\n",
       "      <th>69</th>\n",
       "      <td>0.902439</td>\n",
       "      <td>1.000000</td>\n",
       "      <td>0.016237</td>\n",
       "    </tr>\n",
       "    <tr>\n",
       "      <th>70</th>\n",
       "      <td>0.934959</td>\n",
       "      <td>1.000000</td>\n",
       "      <td>0.010523</td>\n",
       "    </tr>\n",
       "    <tr>\n",
       "      <th>71</th>\n",
       "      <td>0.991870</td>\n",
       "      <td>1.000000</td>\n",
       "      <td>0.007421</td>\n",
       "    </tr>\n",
       "    <tr>\n",
       "      <th>72</th>\n",
       "      <td>1.000000</td>\n",
       "      <td>1.000000</td>\n",
       "      <td>0.001951</td>\n",
       "    </tr>\n",
       "  </tbody>\n",
       "</table>\n",
       "<p>73 rows × 3 columns</p>\n",
       "</div>"
      ],
      "text/plain": [
       "         FPR       TPR  THRESHOLD\n",
       "0   0.000000  0.000000   1.988333\n",
       "1   0.000000  0.019608   0.988333\n",
       "2   0.000000  0.117647   0.915832\n",
       "3   0.008130  0.137255   0.914840\n",
       "4   0.008130  0.235294   0.839696\n",
       "..       ...       ...        ...\n",
       "68  0.886179  1.000000   0.017877\n",
       "69  0.902439  1.000000   0.016237\n",
       "70  0.934959  1.000000   0.010523\n",
       "71  0.991870  1.000000   0.007421\n",
       "72  1.000000  1.000000   0.001951\n",
       "\n",
       "[73 rows x 3 columns]"
      ]
     },
     "execution_count": 221,
     "metadata": {},
     "output_type": "execute_result"
    }
   ],
   "source": [
    "df2 = pd.DataFrame({'FPR':fpr,'TPR':tpr,'THRESHOLD':thrs})\n",
    "df2"
   ]
  },
  {
   "cell_type": "code",
   "execution_count": 222,
   "id": "6dd030fe",
   "metadata": {},
   "outputs": [
    {
     "data": {
      "text/plain": [
       "Text(0.5, 1.0, 'ROC-AUC-CURVE')"
      ]
     },
     "execution_count": 222,
     "metadata": {},
     "output_type": "execute_result"
    },
    {
     "data": {
      "image/png": "[encoded data removed]",
      "text/plain": [
       "<Figure size 640x480 with 1 Axes>"
      ]
     },
     "metadata": {},
     "output_type": "display_data"
    }
   ],
   "source": [
    "plt.plot(fpr,tpr)\n",
    "plt.plot([[0,0],[1,1]],color='red')\n",
    "plt.xlabel('FPR')\n",
    "plt.ylabel('TPR')\n",
    "plt.title('ROC-AUC-CURVE')"
   ]
  },
  {
   "cell_type": "markdown",
   "id": "36ba0082",
   "metadata": {},
   "source": [
    "## interpretation"
   ]
  },
  {
   "cell_type": "markdown",
   "id": "2c8146b4",
   "metadata": {},
   "source": [
    "- Logistic Regression: Trains and evaluates a logistic regression model.\n",
    "- Decision Tree Classifier: Trains and evaluates a decision tree model.\n",
    "- Random Forest Classifier: Trains and evaluates a random forest model.\n",
    "- GridSearchCV: Performs hyperparameter tuning for the random forest model.\n",
    "- Tuned Random Forest Classifier: Trains and evaluates the random forest model with the best parameters found by GridSearchCV.\n",
    "- Confusion Matrix: Plots the confusion matrix for the tuned random forest model."
   ]
  },
  {
   "cell_type": "code",
   "execution_count": null,
   "id": "3d796633",
   "metadata": {},
   "outputs": [],
   "source": []
  }
 ],
 "metadata": {
  "kernelspec": {
   "display_name": "Python 3 (ipykernel)",
   "language": "python",
   "name": "python3"
  },
  "language_info": {
   "codemirror_mode": {
    "name": "ipython",
    "version": 3
   },
   "file_extension": ".py",
   "mimetype": "text/x-python",
   "name": "python",
   "nbconvert_exporter": "python",
   "pygments_lexer": "ipython3",
   "version": "3.11.5"
  }
 },
 "nbformat": 4,
 "nbformat_minor": 5
}
